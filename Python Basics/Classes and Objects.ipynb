{
 "cells": [
  {
   "cell_type": "markdown",
   "id": "50205481-c61a-4b52-a372-fc84ef6b5f21",
   "metadata": {},
   "source": [
    "  <h1 style=\"color: blue; font-weight: bold; font-size: 36px;\"> Classes and Objects </h1>\n"
   ]
  },
  {
   "cell_type": "markdown",
   "id": "8921afd9-e521-47e9-96af-d0a6b9ddce00",
   "metadata": {},
   "source": [
    "<p><span style=\"color: red;\"> Creating a Class.</span></p>"
   ]
  },
  {
   "cell_type": "code",
   "execution_count": null,
   "id": "fbf436aa-57b2-4eca-9ae3-2f4ef591592b",
   "metadata": {},
   "outputs": [],
   "source": [
    "import mathplotlib.pyplot as plt"
   ]
  },
  {
   "cell_type": "code",
   "execution_count": null,
   "id": "4404a156-c1f2-4d4c-84f4-79c4aadd0069",
   "metadata": {},
   "outputs": [],
   "source": [
    "class Circle(object):\n",
    "    \n",
    "    # Constructor\n",
    "    def __init__(self, radius=3, color='blue'):\n",
    "        self.radius = radius\n",
    "        self.color = color \n",
    "    \n",
    "    # Method\n",
    "    def add_radius(self, r):\n",
    "        self.radius = self.radius + r\n",
    "        return(self.radius)\n",
    "    \n",
    "    # Method\n",
    "    def drawCircle(self):\n",
    "        plt.gca().add_patch(plt.Circle((0, 0), radius=self.radius, fc=self.color))\n",
    "        plt.axis('scaled')\n",
    "        plt.show()  "
   ]
  },
  {
   "cell_type": "markdown",
   "id": "af66e22b-7917-4225-8871-6ae9d8eb40d9",
   "metadata": {},
   "source": [
    "This class allows you to create Circle objects with specified radius and color, and you can modify the radius and draw the circle using the defined methods."
   ]
  },
  {
   "cell_type": "code",
   "execution_count": null,
   "id": "63a183d8-a17e-4028-84cd-219f35a8ee93",
   "metadata": {},
   "outputs": [],
   "source": [
    "# Create a new object rectangle\n",
    "\n",
    "SkinnyBlueRectangle = Rectangle(2, 3, 'blue')"
   ]
  },
  {
   "cell_type": "code",
   "execution_count": null,
   "id": "455162c8-5b58-49c4-a0dd-8842889fbacd",
   "metadata": {},
   "outputs": [],
   "source": [
    "# Print the object attribute height\n",
    "\n",
    "SkinnyBlueRectangle.height "
   ]
  },
  {
   "cell_type": "code",
   "execution_count": null,
   "id": "c2b4950f-176a-4815-829f-89d0a7119651",
   "metadata": {},
   "outputs": [],
   "source": [
    "# Print the object attribute width\n",
    "\n",
    "SkinnyBlueRectangle.width"
   ]
  },
  {
   "cell_type": "code",
   "execution_count": null,
   "id": "f1793950-d82d-4b3c-a537-139882bdd2a9",
   "metadata": {},
   "outputs": [],
   "source": [
    "# Print the object attribute color\n",
    "\n",
    "SkinnyBlueRectangle.color"
   ]
  },
  {
   "cell_type": "code",
   "execution_count": null,
   "id": "f2dc032b-d489-47c8-8d3f-46be2f7d7d91",
   "metadata": {},
   "outputs": [],
   "source": [
    "# Use the drawRectangle method to draw the shape\n",
    "\n",
    "SkinnyBlueRectangle.drawRectangle()"
   ]
  },
  {
   "cell_type": "code",
   "execution_count": null,
   "id": "effb41a3-0b5a-4692-83f8-18456c57296e",
   "metadata": {},
   "outputs": [],
   "source": []
  }
 ],
 "metadata": {
  "kernelspec": {
   "display_name": "Python 3 (ipykernel)",
   "language": "python",
   "name": "python3"
  },
  "language_info": {
   "codemirror_mode": {
    "name": "ipython",
    "version": 3
   },
   "file_extension": ".py",
   "mimetype": "text/x-python",
   "name": "python",
   "nbconvert_exporter": "python",
   "pygments_lexer": "ipython3",
   "version": "3.10.11"
  }
 },
 "nbformat": 4,
 "nbformat_minor": 5
}
