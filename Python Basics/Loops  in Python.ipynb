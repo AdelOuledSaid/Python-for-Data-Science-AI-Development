{
 "cells": [
  {
   "cell_type": "markdown",
   "id": "dfb8f38b",
   "metadata": {},
   "source": [
    "<h1 style=\"color: blue; font-weight: bold; font-size: 36px;\"> Loops in  python </h1>\n"
   ]
  },
  {
   "cell_type": "markdown",
   "id": "bbca5b7e",
   "metadata": {},
   "source": [
    "<p><span style=\"color: red;\"> 1. For loop.</span></p>"
   ]
  },
  {
   "cell_type": "code",
   "execution_count": null,
   "id": "1a5acecb",
   "metadata": {},
   "outputs": [],
   "source": [
    "#example\n",
    "dates = [1982,1980,1973]\n",
    "N = len(dates)\n",
    "\n",
    "for i in range(N):\n",
    "    print(dates[i])     "
   ]
  },
  {
   "cell_type": "markdown",
   "id": "9f393f30",
   "metadata": {},
   "source": [
    "When you run this code, it will print each year from the dates list on a separate line:\n",
    "\n",
    "\n"
   ]
  },
  {
   "cell_type": "code",
   "execution_count": null,
   "id": "135f6e9d",
   "metadata": {},
   "outputs": [],
   "source": [
    "for i in range(0, 8):\n",
    "    print(i)"
   ]
  },
  {
   "cell_type": "markdown",
   "id": "21cc423b",
   "metadata": {},
   "source": [
    "When you run this code, it will print each number from 0 to 7 on a separate line:\n",
    "\n"
   ]
  },
  {
   "cell_type": "code",
   "execution_count": null,
   "id": "2027548f",
   "metadata": {},
   "outputs": [],
   "source": [
    "squares = ['red', 'yellow', 'green', 'purple', 'blue']\n",
    "\n",
    "for i in range(0, 5):\n",
    "    print(\"Before square \", i, 'is',  squares[i])\n",
    "    squares[i] = 'white'\n",
    "    print(\"After square \", i, 'is',  squares[i])"
   ]
  },
  {
   "cell_type": "markdown",
   "id": "b9262c51",
   "metadata": {},
   "source": [
    "When you run this code, it will print the color of each square before and after modification. After modification, each square will be set to 'white'.\n",
    "\n"
   ]
  },
  {
   "cell_type": "code",
   "execution_count": null,
   "id": "d4366066",
   "metadata": {},
   "outputs": [],
   "source": [
    "squares=['red', 'yellow', 'green', 'purple', 'blue']\n",
    "\n",
    "for i, square in enumerate(squares):\n",
    "    print(i, square)"
   ]
  },
  {
   "cell_type": "markdown",
   "id": "f0f7be97",
   "metadata": {},
   "source": [
    "When you run this code, it will print the index and the color of each square"
   ]
  },
  {
   "cell_type": "markdown",
   "id": "ea105c63",
   "metadata": {},
   "source": [
    "<p><span style=\"color: red;\"> 2. While loop.</span></p>"
   ]
  },
  {
   "cell_type": "code",
   "execution_count": null,
   "id": "50feec5e",
   "metadata": {},
   "outputs": [],
   "source": [
    "count = 1\n",
    "while count <= 5:\n",
    "    print(count)\n",
    "    count += 1"
   ]
  },
  {
   "cell_type": "markdown",
   "id": "f1279776",
   "metadata": {},
   "source": [
    "This code snippet uses a while loop to print numbers from 1 to 5, incrementing the count in each iteration.\n",
    "The loop continues until the value of count becomes greater than 5. In each iteration, it prints the current value of count, starting from 1 and incrementing by 1 in each iteratio"
   ]
  },
  {
   "cell_type": "code",
   "execution_count": null,
   "id": "4388617e",
   "metadata": {},
   "outputs": [],
   "source": [
    "dates = [1982, 1980, 1973, 2000]\n",
    "\n",
    "i = 0\n",
    "year = dates[0]\n",
    "\n",
    "while(year != 1973):    \n",
    "    print(year)\n",
    "    i = i + 1\n",
    "    year = dates[i]"
   ]
  },
  {
   "cell_type": "markdown",
   "id": "38357103",
   "metadata": {},
   "source": [
    "This code snippet initializes a list called dates containing years. It then uses a while loop to iterate over the list until it encounters the year 1973"
   ]
  },
  {
   "cell_type": "markdown",
   "id": "1e6969d6",
   "metadata": {},
   "source": [
    "The loop continues until it encounters the year 1973. In each iteration, it prints the current value of year.\n",
    "\n",
    "When you run this code, it will print the years from 1982 until 1973, as 1973 is the year where the loop condition becomes False:"
   ]
  },
  {
   "cell_type": "code",
   "execution_count": null,
   "id": "74d042cc",
   "metadata": {},
   "outputs": [],
   "source": []
  }
 ],
 "metadata": {
  "kernelspec": {
   "display_name": "Python 3 (ipykernel)",
   "language": "python",
   "name": "python3"
  },
  "language_info": {
   "codemirror_mode": {
    "name": "ipython",
    "version": 3
   },
   "file_extension": ".py",
   "mimetype": "text/x-python",
   "name": "python",
   "nbconvert_exporter": "python",
   "pygments_lexer": "ipython3",
   "version": "3.9.13"
  }
 },
 "nbformat": 4,
 "nbformat_minor": 5
}
