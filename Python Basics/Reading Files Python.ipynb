{
 "cells": [
  {
   "cell_type": "markdown",
   "id": "d145bc08",
   "metadata": {},
   "source": [
    " <h1 style=\"color: blue; font-weight: bold; font-size: 36px;\"> Reading Files Python </h1>\n",
    " "
   ]
  },
  {
   "cell_type": "code",
   "execution_count": 22,
   "id": "59edc5f1",
   "metadata": {},
   "outputs": [
    {
     "name": "stdout",
     "output_type": "stream",
     "text": [
      "Requirement already satisfied: requests in c:\\users\\adel\\appdata\\local\\packages\\pythonsoftwarefoundation.python.3.10_qbz5n2kfra8p0\\localcache\\local-packages\\python310\\site-packages (2.31.0)\n",
      "Requirement already satisfied: charset-normalizer<4,>=2 in c:\\users\\adel\\appdata\\local\\packages\\pythonsoftwarefoundation.python.3.10_qbz5n2kfra8p0\\localcache\\local-packages\\python310\\site-packages (from requests) (3.2.0)\n",
      "Requirement already satisfied: idna<4,>=2.5 in c:\\users\\adel\\appdata\\local\\packages\\pythonsoftwarefoundation.python.3.10_qbz5n2kfra8p0\\localcache\\local-packages\\python310\\site-packages (from requests) (3.4)\n",
      "Requirement already satisfied: urllib3<3,>=1.21.1 in c:\\users\\adel\\appdata\\local\\packages\\pythonsoftwarefoundation.python.3.10_qbz5n2kfra8p0\\localcache\\local-packages\\python310\\site-packages (from requests) (2.0.4)\n",
      "Requirement already satisfied: certifi>=2017.4.17 in c:\\users\\adel\\appdata\\local\\packages\\pythonsoftwarefoundation.python.3.10_qbz5n2kfra8p0\\localcache\\local-packages\\python310\\site-packages (from requests) (2023.7.22)\n"
     ]
    },
    {
     "data": {
      "text/plain": [
       "('Example1.txt', <http.client.HTTPMessage at 0x23a4d486a10>)"
      ]
     },
     "execution_count": 22,
     "metadata": {},
     "output_type": "execute_result"
    }
   ],
   "source": [
    "!pip install requests\n",
    "\n",
    "import requests\n",
    "url = 'https://cf-courses-data.s3.us.cloud-object-storage.appdomain.cloud/IBMDeveloperSkillsNetwork-PY0101EN-SkillsNetwork/labs/Module%204/data/example1.txt'\n",
    "filename = 'Example1.txt'\n",
    "urllib.request.urlretrieve(url, filename)\n",
    "\n"
   ]
  },
  {
   "cell_type": "markdown",
   "id": "01fea594",
   "metadata": {},
   "source": [
    "- pyfetch Import: Ensure you are correctly importing pyfetch from pyodide.http.\n",
    "- Asynchronous Context: Use asyncio.run(main()) to run the asynchronous main() function that calls download.\n",
    "- Filename Variable: Rename the URL variable to url to avoid confusion between the URL and the local filename.\n",
    "* This script should download the file from the provided URL and save it as example1.txt in the current directory, printing \"done\" upon completion."
   ]
  },
  {
   "cell_type": "markdown",
   "id": "b5b236f2",
   "metadata": {},
   "source": [
    "We  read the file :"
   ]
  },
  {
   "cell_type": "code",
   "execution_count": 11,
   "id": "e12335dc",
   "metadata": {},
   "outputs": [],
   "source": [
    "example1 = \"example1.txt\"\n",
    "file1 = open(example1, \"r\")\n"
   ]
  },
  {
   "cell_type": "code",
   "execution_count": 12,
   "id": "ee42fdb3",
   "metadata": {},
   "outputs": [
    {
     "data": {
      "text/plain": [
       "'example1.txt'"
      ]
     },
     "execution_count": 12,
     "metadata": {},
     "output_type": "execute_result"
    }
   ],
   "source": [
    "# Print the path of file\n",
    "\n",
    "file1.name"
   ]
  },
  {
   "cell_type": "code",
   "execution_count": 13,
   "id": "05774010",
   "metadata": {},
   "outputs": [
    {
     "data": {
      "text/plain": [
       "'r'"
      ]
     },
     "execution_count": 13,
     "metadata": {},
     "output_type": "execute_result"
    }
   ],
   "source": [
    "# Print the mode of file, either 'r' or 'w'\n",
    "\n",
    "file1.mode"
   ]
  },
  {
   "cell_type": "code",
   "execution_count": 14,
   "id": "73e3aefb",
   "metadata": {},
   "outputs": [
    {
     "data": {
      "text/plain": [
       "'This is line 1 \\nThis is line 2\\nThis is line 3'"
      ]
     },
     "execution_count": 14,
     "metadata": {},
     "output_type": "execute_result"
    }
   ],
   "source": [
    "# Read the file\n",
    "FileContent = file1.read()\n",
    "FileContent"
   ]
  },
  {
   "cell_type": "code",
   "execution_count": 15,
   "id": "08af1e80",
   "metadata": {},
   "outputs": [
    {
     "name": "stdout",
     "output_type": "stream",
     "text": [
      "This is line 1 \n",
      "This is line 2\n",
      "This is line 3\n"
     ]
    }
   ],
   "source": [
    "# Print the file with '\\n' as a new line\n",
    "\n",
    "print(FileContent)"
   ]
  },
  {
   "cell_type": "code",
   "execution_count": null,
   "id": "0da3a7a3",
   "metadata": {},
   "outputs": [],
   "source": [
    "# Close file after finish\n",
    "\n",
    "file1.close()"
   ]
  },
  {
   "cell_type": "markdown",
   "id": "22bdb9e9-be38-45c9-b0b1-3e4dbcef6987",
   "metadata": {},
   "source": [
    "Using the with statement is better practice"
   ]
  },
  {
   "cell_type": "code",
   "execution_count": 19,
   "id": "aebd0761-4378-4e92-9de2-fd3fa8ff74c1",
   "metadata": {},
   "outputs": [
    {
     "name": "stdout",
     "output_type": "stream",
     "text": [
      "This is line 1 \n",
      "This is line 2\n",
      "This is line 3\n"
     ]
    }
   ],
   "source": [
    "with open(example1, \"r\") as file1:\n",
    "    FileContet = file1.read()\n",
    "    print(FileContent)"
   ]
  },
  {
   "cell_type": "code",
   "execution_count": 20,
   "id": "545dd754-26b0-4dab-b216-736ef2f85a2e",
   "metadata": {},
   "outputs": [
    {
     "data": {
      "text/plain": [
       "<function TextIOWrapper.close()>"
      ]
     },
     "execution_count": 20,
     "metadata": {},
     "output_type": "execute_result"
    }
   ],
   "source": [
    "file1.close"
   ]
  },
  {
   "cell_type": "code",
   "execution_count": 21,
   "id": "1fa50be0-6992-46a4-b5bc-ed5dbff08e30",
   "metadata": {},
   "outputs": [
    {
     "name": "stdout",
     "output_type": "stream",
     "text": [
      "This is line 1 \n",
      "This is line 2\n",
      "This is line 3\n"
     ]
    }
   ],
   "source": [
    "print(FileContent)"
   ]
  },
  {
   "cell_type": "code",
   "execution_count": null,
   "id": "56f5b5bd-3645-4efb-9b22-ff98c565c66d",
   "metadata": {},
   "outputs": [],
   "source": [
    "with open(example1, \"r\") as file1:\n",
    "    print(file1.read(4))\n",
    "    print(file1.read(4))\n",
    "    print(file1.read(7))\n",
    "    print(file1.read(15))"
   ]
  },
  {
   "cell_type": "markdown",
   "id": "d57bcca9-987e-4578-9217-ebf8d250d4ec",
   "metadata": {},
   "source": [
    " - file1.read(4): Reads the first 4 characters from the file.\n",
    " - file1.read(4): Reads the next 4 characters from the file, continuing from where the last read operation left off.\n",
    " - file1.read(7): Reads the next 7 characters from the file.\n",
    " - file1.read(15): Reads the next 15 characters from the file."
   ]
  },
  {
   "cell_type": "code",
   "execution_count": null,
   "id": "14ed3648-7d85-4cc1-ae5f-acfd4724d80c",
   "metadata": {},
   "outputs": [],
   "source": [
    "with open(example1, \"r\") as file1:\n",
    "    print(\"first line: \" + file1.readline())"
   ]
  },
  {
   "cell_type": "markdown",
   "id": "cdc501f6-01bf-4c83-80a8-a9cfaddd36bd",
   "metadata": {},
   "source": [
    "The file1.readline() will read the first line of the file, including the newline character at the end. "
   ]
  },
  {
   "cell_type": "code",
   "execution_count": null,
   "id": "cbb0f11d-8382-4cf6-a2ba-04bf688ae058",
   "metadata": {},
   "outputs": [],
   "source": [
    "with open(example1,\"r\") as file1:\n",
    "        i = 0;\n",
    "        for line in file1:\n",
    "            print(\"Iteration\", str(i), \": \", line)\n",
    "            i = i + 1"
   ]
  },
  {
   "cell_type": "markdown",
   "id": "4f6ca4c5-34b7-4186-9eb8-0bd2746eda59",
   "metadata": {},
   "source": [
    "This code reads each line of the file example1 within a with block, printing each line along with the current iteration number."
   ]
  },
  {
   "cell_type": "markdown",
   "id": "d8dad446-da80-4f9c-8fb9-0c93dbf4ad03",
   "metadata": {},
   "source": [
    "We can use the method readlines() to save the text file to a list:"
   ]
  },
  {
   "cell_type": "code",
   "execution_count": null,
   "id": "980a67b7-73b4-4f17-889b-7a0d4581660f",
   "metadata": {},
   "outputs": [],
   "source": [
    "\n",
    "with open(example1, \"r\") as file1:\n",
    "    FileasList = file1.readlines()"
   ]
  },
  {
   "cell_type": "code",
   "execution_count": null,
   "id": "bfa4ee2d-03c5-47ad-a9f3-cbc86a76d69d",
   "metadata": {},
   "outputs": [],
   "source": [
    "FileasList[0] # Print the first line"
   ]
  }
 ],
 "metadata": {
  "kernelspec": {
   "display_name": "Python 3 (ipykernel)",
   "language": "python",
   "name": "python3"
  },
  "language_info": {
   "codemirror_mode": {
    "name": "ipython",
    "version": 3
   },
   "file_extension": ".py",
   "mimetype": "text/x-python",
   "name": "python",
   "nbconvert_exporter": "python",
   "pygments_lexer": "ipython3",
   "version": "3.10.11"
  }
 },
 "nbformat": 4,
 "nbformat_minor": 5
}
