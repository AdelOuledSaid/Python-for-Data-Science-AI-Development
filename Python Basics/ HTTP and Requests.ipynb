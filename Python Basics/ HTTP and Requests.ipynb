{
 "cells": [
  {
   "cell_type": "markdown",
   "id": "13092102-d91a-49ee-8d76-681554f1bc17",
   "metadata": {},
   "source": [
    "  <h1 style=\"color: blue; font-weight: bold; font-size: 36px;\">  HTTP and Requests </h1>\n"
   ]
  },
  {
   "cell_type": "markdown",
   "id": "6561ae13-a871-46bd-914d-eae37bb8efe2",
   "metadata": {},
   "source": [
    "HTTP (HyperText Transfer Protocol) is the foundation of data communication for the web. It defines the rules for transferring data between clients (such as web browsers) and servers. HTTP requests are messages sent by a client to a server to perform actions like retrieving data from a web server or sending data to it.\n",
    "#### HTTP Requests in Python\r\n",
    "In Python, the requests library is a popular choice for making HTTP requests. It abstracts the complexities of making requests behind a simple API, allowing you to send HTTP requests with ease.\r",
    "#### \n",
    "\r\n",
    "Installing the Requests Library\r\n",
    "Before using the requests library, you need to install it. You can install it using pip:"
   ]
  },
  {
   "cell_type": "code",
   "execution_count": null,
   "id": "5357c6b0-6834-4a5f-857d-30bcb197932b",
   "metadata": {},
   "outputs": [],
   "source": [
    "pip install requests\n"
   ]
  },
  {
   "cell_type": "markdown",
   "id": "40609d87-b19d-4073-bef1-f399c291be26",
   "metadata": {},
   "source": [
    "-GET Request"
   ]
  },
  {
   "cell_type": "code",
   "execution_count": 1,
   "id": "852d675f-d97d-41c1-9241-3c55b7878af8",
   "metadata": {},
   "outputs": [],
   "source": [
    "import requests"
   ]
  },
  {
   "cell_type": "code",
   "execution_count": 6,
   "id": "a9f31d5c-6b90-4fb1-8dc8-056aff0fae6a",
   "metadata": {},
   "outputs": [],
   "source": [
    "url = 'https://github.com/AdelOuledSaid/Python-for-Data-Science-AI-Development/tree/main/Python%20Basics'\n",
    "r=requests.get(url)\n"
   ]
  },
  {
   "cell_type": "markdown",
   "id": "a92acf51-4165-4161-9293-4db8a9fc45e8",
   "metadata": {},
   "source": [
    "Check the status code of an HTTP request"
   ]
  },
  {
   "cell_type": "code",
   "execution_count": null,
   "id": "a8856fb6-233d-4167-9438-cbd444666501",
   "metadata": {},
   "outputs": [],
   "source": [
    "r.status_code()"
   ]
  },
  {
   "cell_type": "markdown",
   "id": "05ffddfe-cc48-43e2-bfc3-9af73521b8c6",
   "metadata": {},
   "source": [
    "Print the headers of the request "
   ]
  },
  {
   "cell_type": "code",
   "execution_count": null,
   "id": "edcbdd24-4caa-4176-8269-01a9a5d31e6d",
   "metadata": {},
   "outputs": [],
   "source": [
    "print(r.request.headers)"
   ]
  },
  {
   "cell_type": "markdown",
   "id": "35dcfb7c-6507-44ce-81a8-c4967b81decf",
   "metadata": {},
   "source": [
    " Get the body of the request"
   ]
  },
  {
   "cell_type": "code",
   "execution_count": null,
   "id": "ee24099c-2bb5-48de-b565-34b071f563f2",
   "metadata": {},
   "outputs": [],
   "source": [
    "print( r.request.body)"
   ]
  },
  {
   "cell_type": "markdown",
   "id": "0b0112ec-d3fd-4bbb-b69b-9944e434faaa",
   "metadata": {},
   "source": [
    "Access the headers of the HTTP response"
   ]
  },
  {
   "cell_type": "code",
   "execution_count": null,
   "id": "a3316a65-314d-4409-bde4-8dc27fdaea01",
   "metadata": {},
   "outputs": [],
   "source": [
    "header=r.headers\n",
    "print(r.headers)"
   ]
  },
  {
   "cell_type": "markdown",
   "id": "11e68023-3964-41a3-865c-caf61388ccb9",
   "metadata": {},
   "source": [
    "We can obtain the date the request "
   ]
  },
  {
   "cell_type": "code",
   "execution_count": null,
   "id": "8bf971ab-3995-4878-8394-340284727a1a",
   "metadata": {},
   "outputs": [],
   "source": [
    "header['date']"
   ]
  },
  {
   "cell_type": "markdown",
   "id": "dd66b497-8a55-40b3-b32b-965104a21959",
   "metadata": {},
   "source": [
    "Content-Type"
   ]
  },
  {
   "cell_type": "code",
   "execution_count": null,
   "id": "d9336cfa-c6cc-4e37-b1e9-3d587c70374a",
   "metadata": {},
   "outputs": [],
   "source": [
    "header['Content-Type']"
   ]
  },
  {
   "cell_type": "code",
   "execution_count": null,
   "id": "c4a11ad5-56a3-4764-a41c-e827f205ad63",
   "metadata": {},
   "outputs": [],
   "source": [
    "Check the encoding"
   ]
  },
  {
   "cell_type": "code",
   "execution_count": null,
   "id": "c77923d4-e4b7-4d9c-8cfd-a1ba94fc416e",
   "metadata": {},
   "outputs": [],
   "source": [
    " r.encoding"
   ]
  },
  {
   "cell_type": "code",
   "execution_count": null,
   "id": "ef33369c-f45f-4fde-925e-f8aca44a16be",
   "metadata": {},
   "outputs": [],
   "source": []
  },
  {
   "cell_type": "code",
   "execution_count": 16,
   "id": "af7e977e-ce5f-4e7e-a7ce-6fc826e1c1c1",
   "metadata": {},
   "outputs": [],
   "source": [
    "url = 'https://raw.githubusercontent.com/AdelOuledSaid/Python-for-Data-Science-AI-Development/main/Python%20Basics/image.png'\n",
    "r=requests.get(url)"
   ]
  },
  {
   "cell_type": "code",
   "execution_count": 17,
   "id": "ba28946c-d95b-4c65-8918-b06d45cfc224",
   "metadata": {},
   "outputs": [
    {
     "name": "stdout",
     "output_type": "stream",
     "text": [
      "{'Connection': 'keep-alive', 'Content-Length': '44878', 'Cache-Control': 'max-age=300', 'Content-Security-Policy': \"default-src 'none'; style-src 'unsafe-inline'; sandbox\", 'Content-Type': 'image/png', 'ETag': 'W/\"ab7c6d17c62bc29766db68a8e68a28e7d09aedf85e211cb26a03a72ca2d2f089\"', 'Strict-Transport-Security': 'max-age=31536000', 'X-Content-Type-Options': 'nosniff', 'X-Frame-Options': 'deny', 'X-XSS-Protection': '1; mode=block', 'X-GitHub-Request-Id': '3F10:383988:795AF7:7FDEE0:66599BC3', 'Accept-Ranges': 'bytes', 'Date': 'Fri, 31 May 2024 10:23:38 GMT', 'Via': '1.1 varnish', 'X-Served-By': 'cache-par-lfpg1960085-PAR', 'X-Cache': 'HIT', 'X-Cache-Hits': '0', 'X-Timer': 'S1717151018.473471,VS0,VE144', 'Vary': 'Authorization,Accept-Encoding,Origin', 'Access-Control-Allow-Origin': '*', 'Cross-Origin-Resource-Policy': 'cross-origin', 'X-Fastly-Request-ID': 'f972ada1657d43799b6876edc552ce0899c179df', 'Expires': 'Fri, 31 May 2024 10:28:38 GMT', 'Source-Age': '0'}\n"
     ]
    }
   ],
   "source": [
    "print(r.headers)"
   ]
  },
  {
   "cell_type": "code",
   "execution_count": 18,
   "id": "43433dd1-108f-4fd8-9f31-a659bcd2b7cf",
   "metadata": {},
   "outputs": [
    {
     "data": {
      "text/plain": [
       "'image/png'"
      ]
     },
     "execution_count": 18,
     "metadata": {},
     "output_type": "execute_result"
    }
   ],
   "source": [
    "r.headers['Content-Type']"
   ]
  },
  {
   "cell_type": "code",
   "execution_count": null,
   "id": "6387e2b6-9a43-4ad0-b66d-c3e858436092",
   "metadata": {},
   "outputs": [],
   "source": []
  },
  {
   "cell_type": "code",
   "execution_count": null,
   "id": "b332c20a-e746-430d-87f1-5f27f2ac573c",
   "metadata": {},
   "outputs": [],
   "source": [
    "import os  # module for interacting with the operating system\n",
    "from PIL import Image #  class from the Python Imaging Library (PIL),\n",
    "from IPython.display import IFrame # class from IPython.display."
   ]
  },
  {
   "cell_type": "markdown",
   "id": "f2db94bb-5f06-4509-b781-0f9d4f5cfe9f",
   "metadata": {},
   "source": [
    "Use os.getcwd() to get the current working directory, then joining this path with the filename \"image.png\" to form a complete path to the image file.\n"
   ]
  },
  {
   "cell_type": "code",
   "execution_count": 20,
   "id": "9cce8414-f3a9-45e7-a7a4-e1ac5712a0fa",
   "metadata": {},
   "outputs": [],
   "source": [
    "path=os.path.join(os.getcwd(),'image.png') "
   ]
  },
  {
   "cell_type": "markdown",
   "id": "9cb5925a-3e05-4558-94e8-d029e71bae9f",
   "metadata": {},
   "source": [
    "This code snippet opens the file located at the specified path in binary write mode ('wb') and writes the content of the HTTP response (r.content) to this file."
   ]
  },
  {
   "cell_type": "code",
   "execution_count": 22,
   "id": "dc3b392a-21a5-4a7a-a95f-2957b0266ca0",
   "metadata": {},
   "outputs": [],
   "source": [
    "with open(path,'wb') as f:\n",
    "    f.write(r.content)"
   ]
  },
  {
   "cell_type": "code",
   "execution_count": null,
   "id": "f00b0971-a0e7-413e-af15-2f2ec3b252aa",
   "metadata": {},
   "outputs": [],
   "source": [
    "Image.open(path) # open and load an image file from the specified path."
   ]
  },
  {
   "cell_type": "markdown",
   "id": "470eb272-0bad-43c3-a315-7d80fb429b18",
   "metadata": {},
   "source": [
    "#### Get Request with URL Parameters"
   ]
  },
  {
   "cell_type": "code",
   "execution_count": 24,
   "id": "4184e9d6-edae-47c1-a0f3-b9ca84ecc3ba",
   "metadata": {},
   "outputs": [],
   "source": [
    "url_get='http://httpbin.org/get'"
   ]
  },
  {
   "cell_type": "code",
   "execution_count": 25,
   "id": "a0cf518d-3928-4ed9-a13d-24a3b7f7fc28",
   "metadata": {},
   "outputs": [],
   "source": [
    "payload={\"name\":\"Joseph\",\"ID\":\"123\"}"
   ]
  },
  {
   "cell_type": "code",
   "execution_count": 26,
   "id": "d2c2e452-5dbc-49de-99a7-57ca3564c486",
   "metadata": {},
   "outputs": [],
   "source": [
    "r=requests.get(url_get,params=payload)"
   ]
  },
  {
   "cell_type": "code",
   "execution_count": 27,
   "id": "5d1cda45-eb5e-4489-bac3-a4974f8e1507",
   "metadata": {},
   "outputs": [
    {
     "data": {
      "text/plain": [
       "'http://httpbin.org/get?name=Joseph&ID=123'"
      ]
     },
     "execution_count": 27,
     "metadata": {},
     "output_type": "execute_result"
    }
   ],
   "source": [
    "r.url"
   ]
  },
  {
   "cell_type": "code",
   "execution_count": null,
   "id": "4835c3a2-683d-4174-81d2-1a848c0915ef",
   "metadata": {},
   "outputs": [],
   "source": [
    "r.headers['Content-Type']"
   ]
  },
  {
   "cell_type": "code",
   "execution_count": null,
   "id": "0ac40f44-09d4-41ba-90d3-923761f60588",
   "metadata": {},
   "outputs": [],
   "source": [
    "r.json()"
   ]
  },
  {
   "cell_type": "markdown",
   "id": "026633e8-631c-4958-bd51-4c880d4ae740",
   "metadata": {},
   "source": [
    "##### Post Requests\n"
   ]
  },
  {
   "cell_type": "markdown",
   "id": "7aa37f26-02b8-4533-87a8-a4cce36ca6bf",
   "metadata": {},
   "source": [
    "Post requests are HTTP requests used to send data to a server to create or update a resource. They are commonly used in web development for submitting form data, uploading files, or making API calls.\n",
    "\n"
   ]
  },
  {
   "cell_type": "code",
   "execution_count": null,
   "id": "6ba4a1b7-f1b9-432e-b7d7-84a25fbb5eee",
   "metadata": {},
   "outputs": [],
   "source": [
    "url_post='http://httpbin.org/post'"
   ]
  },
  {
   "cell_type": "code",
   "execution_count": null,
   "id": "74c67d53-c978-492f-996c-5fc9044dc4d3",
   "metadata": {},
   "outputs": [],
   "source": [
    "r_post=requests.post(url_post,data=payload)"
   ]
  },
  {
   "cell_type": "code",
   "execution_count": null,
   "id": "2ecd40c7-1c81-471e-8991-a3a83ae3d36d",
   "metadata": {},
   "outputs": [],
   "source": [
    "r_post=requests.post(url_post,data=payload)"
   ]
  },
  {
   "cell_type": "code",
   "execution_count": null,
   "id": "6bf232f3-6c1e-4d6f-a9fe-b4b7d141cd67",
   "metadata": {},
   "outputs": [],
   "source": [
    "print(\"POST request body:\",r_post.request.body)\n",
    "print(\"GET request body:\",r.request.body)"
   ]
  },
  {
   "cell_type": "markdown",
   "id": "83616947-adee-4290-a5f5-a0d75bc3453f",
   "metadata": {},
   "source": [
    "#### Example "
   ]
  },
  {
   "cell_type": "code",
   "execution_count": null,
   "id": "d5f60dbb-dd24-4ec5-8c49-d52fed108013",
   "metadata": {},
   "outputs": [],
   "source": [
    "# Define the URL endpoint where you want to send the POST request\n",
    "url = 'https://example.com/api/post_endpoint'\n",
    "\n",
    "# Define the data you want to send in the POST request (as a dictionary)\n",
    "data = {\n",
    "    'key1': 'value1',\n",
    "    'key2': 'value2'\n",
    "}\n",
    "\n",
    "# Make the POST request with the data\n",
    "response = requests.post(url, data=data)\n",
    "\n",
    "# Check if the request was successful (status code 200)\n",
    "if response.status_code == 200:\n",
    "    print(\"POST request successful.\")\n",
    "else:\n",
    "    print(\"POST request failed.\")"
   ]
  }
 ],
 "metadata": {
  "kernelspec": {
   "display_name": "Python 3 (ipykernel)",
   "language": "python",
   "name": "python3"
  },
  "language_info": {
   "codemirror_mode": {
    "name": "ipython",
    "version": 3
   },
   "file_extension": ".py",
   "mimetype": "text/x-python",
   "name": "python",
   "nbconvert_exporter": "python",
   "pygments_lexer": "ipython3",
   "version": "3.10.11"
  }
 },
 "nbformat": 4,
 "nbformat_minor": 5
}
