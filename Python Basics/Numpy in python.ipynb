{
 "cells": [
  {
   "cell_type": "markdown",
   "id": "a0aa695c-dd43-46c6-b06c-9fcd6aa9eea7",
   "metadata": {},
   "source": [
    " <h1 style=\"color: blue; font-weight: bold; font-size: 36px;\"> Numpy in Python </h1>\n"
   ]
  },
  {
   "cell_type": "markdown",
   "id": "f55cbbcd-c2c1-49a9-8003-9ef2c422105e",
   "metadata": {},
   "source": [
    "## One Dimensional Numpy"
   ]
  },
  {
   "cell_type": "markdown",
   "id": "3ed2b4f9-bb22-45f4-b555-b26b6d246f46",
   "metadata": {},
   "source": [
    "NumPy (short for Numerical Python) is a fundamental package for scientific computing in Python. It provides support for arrays, matrices, and many mathematical functions to operate on these data structures. NumPy is widely used in various fields such as data analysis, machine learning, and scientific research due to its powerful capabilities and ease of use."
   ]
  },
  {
   "cell_type": "code",
   "execution_count": 3,
   "id": "0adac8a2-28c3-430e-a74f-86fc2d75b867",
   "metadata": {},
   "outputs": [],
   "source": [
    "import numpy as np "
   ]
  },
  {
   "cell_type": "code",
   "execution_count": null,
   "id": "bf025599-9808-46c1-8e47-5a82e51e728c",
   "metadata": {},
   "outputs": [],
   "source": [
    "# Create a numpy array\n",
    "\n",
    "a = np.array([0, 1, 2, 3, 4])\n",
    "a"
   ]
  },
  {
   "cell_type": "code",
   "execution_count": null,
   "id": "0001d55a-f06b-483f-9ba1-b6d0d44548aa",
   "metadata": {},
   "outputs": [],
   "source": [
    "# Print each element\n",
    "\n",
    "print(\"a[0]:\", a[0])\n",
    "print(\"a[1]:\", a[1])\n",
    "print(\"a[2]:\", a[2])\n",
    "print(\"a[3]:\", a[3])\n",
    "print(\"a[4]:\", a[4])"
   ]
  },
  {
   "cell_type": "markdown",
   "id": "461597a7-c4c2-4638-8269-e74f8afb2008",
   "metadata": {},
   "source": [
    "###Type"
   ]
  },
  {
   "cell_type": "code",
   "execution_count": null,
   "id": "5aa42e4c-ff35-4f41-b0b0-2dd347e0f7a9",
   "metadata": {},
   "outputs": [],
   "source": [
    "# Check the type of the array\n",
    "\n",
    "type(a)"
   ]
  },
  {
   "cell_type": "code",
   "execution_count": null,
   "id": "b2628971-f79e-45df-93d8-70f452859731",
   "metadata": {},
   "outputs": [],
   "source": [
    "# Check the type of the values stored in numpy array\n",
    "\n",
    "a.dtype"
   ]
  },
  {
   "cell_type": "markdown",
   "id": "3c9f4957-79d0-4e2f-81c2-790ec2ba0791",
   "metadata": {},
   "source": [
    "We can change the value of the array."
   ]
  },
  {
   "cell_type": "code",
   "execution_count": 4,
   "id": "8d45a127-0d63-4e46-bc6e-2d4b66f0c142",
   "metadata": {},
   "outputs": [
    {
     "data": {
      "text/plain": [
       "array([20,  1,  2,  3,  4])"
      ]
     },
     "execution_count": 4,
     "metadata": {},
     "output_type": "execute_result"
    }
   ],
   "source": [
    "c = np.array([20, 1, 2, 3, 4])\n",
    "c\n"
   ]
  },
  {
   "cell_type": "code",
   "execution_count": null,
   "id": "0ee5236b-6354-4219-a7b4-9293db053ca3",
   "metadata": {},
   "outputs": [],
   "source": [
    "c[0] = 100 # change the first element of the array to 100\n",
    "c"
   ]
  },
  {
   "cell_type": "code",
   "execution_count": null,
   "id": "c191f176-09a5-4627-b45e-022e01fb2771",
   "metadata": {},
   "outputs": [],
   "source": [
    "# Assign the 5th element to 0\n",
    "\n",
    "c[4] = 0\n",
    "c"
   ]
  },
  {
   "cell_type": "code",
   "execution_count": 5,
   "id": "daa5e15a-96d4-442f-b438-e5a3dfeeb77c",
   "metadata": {},
   "outputs": [
    {
     "data": {
      "text/plain": [
       "array([1, 2, 3])"
      ]
     },
     "execution_count": 5,
     "metadata": {},
     "output_type": "execute_result"
    }
   ],
   "source": [
    "# Slicing the numpy array\n",
    "\n",
    "d = c[1:4]\n",
    "d"
   ]
  },
  {
   "cell_type": "code",
   "execution_count": 6,
   "id": "bfad1ee5-83e3-4358-9819-53c5a93f187e",
   "metadata": {},
   "outputs": [
    {
     "name": "stdout",
     "output_type": "stream",
     "text": [
      "[2 4]\n"
     ]
    }
   ],
   "source": [
    "#define the steps in slicing, like this: [start:end:step].\n",
    "arr = np.array([1, 2, 3, 4, 5, 6, 7])\n",
    "\n",
    "print(arr[1:5:2])"
   ]
  },
  {
   "cell_type": "code",
   "execution_count": 7,
   "id": "56bcf22a-39d9-442a-bad5-dc4d45530a69",
   "metadata": {},
   "outputs": [
    {
     "name": "stdout",
     "output_type": "stream",
     "text": [
      "[1 2 3 4]\n"
     ]
    }
   ],
   "source": [
    "print(arr[:4])"
   ]
  },
  {
   "cell_type": "markdown",
   "id": "5e62a0ec-4530-4d48-941d-3082cd09a9b5",
   "metadata": {},
   "source": [
    "**Other Attributes**"
   ]
  },
  {
   "cell_type": "code",
   "execution_count": null,
   "id": "03c55ea9-92c4-4a53-a6e3-7f0c615ff8af",
   "metadata": {},
   "outputs": [],
   "source": [
    "a = np.array([0, 1, 2, 3, 4])\n",
    "a"
   ]
  },
  {
   "cell_type": "code",
   "execution_count": null,
   "id": "eed88dff-b3f0-43bb-ae18-90dcb90c3768",
   "metadata": {},
   "outputs": [],
   "source": [
    "# Get the size of numpy array\n",
    "\n",
    "a.size"
   ]
  },
  {
   "cell_type": "code",
   "execution_count": null,
   "id": "1e81f41f-3e89-41a1-bc79-4d64deb19f26",
   "metadata": {},
   "outputs": [],
   "source": [
    "# Get the number of dimensions of numpy array\n",
    "\n",
    "a.ndim"
   ]
  },
  {
   "cell_type": "code",
   "execution_count": null,
   "id": "071adb02-5556-40b3-ad01-f169a81f2bd1",
   "metadata": {},
   "outputs": [],
   "source": [
    "# Get the shape/size of numpy array\n",
    "\n",
    "a.shape"
   ]
  },
  {
   "cell_type": "markdown",
   "id": "168443f1-3658-4801-824d-e008a7431035",
   "metadata": {},
   "source": [
    "***Numpy Statistical Functions***\n"
   ]
  },
  {
   "cell_type": "code",
   "execution_count": null,
   "id": "66522ca6-25d8-409e-8ecc-b2df369a19d9",
   "metadata": {},
   "outputs": [],
   "source": [
    "# Create a numpy array\n",
    "\n",
    "a = np.array([1, -1, 4, 7])"
   ]
  },
  {
   "cell_type": "code",
   "execution_count": null,
   "id": "5d106009-98d5-46be-8fe6-fbfacaf59808",
   "metadata": {},
   "outputs": [],
   "source": [
    "# Get the mean of numpy array\n",
    "\n",
    "mean = a.mean()\n",
    "mean"
   ]
  },
  {
   "cell_type": "code",
   "execution_count": null,
   "id": "4a796bec-f821-4cf6-a28e-d53a1f63760d",
   "metadata": {},
   "outputs": [],
   "source": [
    "# Get the standard deviation of numpy array\n",
    "\n",
    "standard_deviation=a.std()\n",
    "standard_deviation"
   ]
  },
  {
   "cell_type": "code",
   "execution_count": null,
   "id": "c199f5fa-6663-45e0-a3d9-d956199c017d",
   "metadata": {},
   "outputs": [],
   "source": [
    "# Get the biggest value in the numpy array\n",
    "\n",
    "max_a = a.max()\n",
    "max_a"
   ]
  },
  {
   "cell_type": "code",
   "execution_count": null,
   "id": "50111ac8-c5e5-43d1-a4cb-f2436c2210db",
   "metadata": {},
   "outputs": [],
   "source": [
    "# Get the smallest value in the numpy array\n",
    "\n",
    "min_a = a.min()\n",
    "min_a"
   ]
  },
  {
   "cell_type": "markdown",
   "id": "0914e58f-427d-4dce-817f-be9be16b0b26",
   "metadata": {},
   "source": [
    "## Two Dimensional Numpy"
   ]
  },
  {
   "cell_type": "code",
   "execution_count": null,
   "id": "52984554-12a1-454b-81bc-62a235488ae4",
   "metadata": {},
   "outputs": [],
   "source": [
    "# Create a list\n",
    "a = [[11, 12, 13], [21, 22, 23], [31, 32, 33]]\n",
    "a"
   ]
  },
  {
   "cell_type": "code",
   "execution_count": null,
   "id": "78f0e558-5a9e-4154-9099-7d92716f5ca5",
   "metadata": {},
   "outputs": [],
   "source": [
    "# Convert list to Numpy Array\n",
    "\n",
    "A = np.array(a)\n",
    "A"
   ]
  },
  {
   "cell_type": "code",
   "execution_count": null,
   "id": "0aaeb3cb-c2b0-49e4-a81f-3b073bc61571",
   "metadata": {},
   "outputs": [],
   "source": [
    "# Show the numpy array dimensions\n",
    "\n",
    "A.ndim"
   ]
  },
  {
   "cell_type": "code",
   "execution_count": null,
   "id": "da25efaa-673c-402d-9149-f32874718f9e",
   "metadata": {},
   "outputs": [],
   "source": [
    "# Show the numpy array shape\n",
    "\n",
    "A.shape"
   ]
  },
  {
   "cell_type": "code",
   "execution_count": null,
   "id": "ae288333-d97d-43a2-9af1-3493763a1c7a",
   "metadata": {},
   "outputs": [],
   "source": [
    "# Access the element on the second row and third column\n",
    "A[1, 2]"
   ]
  },
  {
   "cell_type": "code",
   "execution_count": null,
   "id": "6ee9986c-302e-4148-9790-7a8ee3910e15",
   "metadata": {},
   "outputs": [],
   "source": [
    "A[1][2]"
   ]
  },
  {
   "cell_type": "code",
   "execution_count": null,
   "id": "0c76703f-4a9e-450e-a4d5-4432fc960430",
   "metadata": {},
   "outputs": [],
   "source": [
    "# Access the element on the first row and first and second columns\n",
    "\n",
    "A[0][0:2]"
   ]
  },
  {
   "cell_type": "code",
   "execution_count": null,
   "id": "9f177949-3514-4731-bb57-965405bd4acf",
   "metadata": {},
   "outputs": [],
   "source": [
    "# Access the element on the first and second rows and third column\n",
    "\n",
    "A[0:2, 2]"
   ]
  },
  {
   "cell_type": "code",
   "execution_count": null,
   "id": "cad6b2fd-71c2-4d3e-95d5-f4442ddf5d62",
   "metadata": {},
   "outputs": [],
   "source": [
    "# Create a numpy array X\n",
    "\n",
    "X = np.array([[1, 0], [0, 1]]) \n",
    "X\n",
    "# Create a numpy array Y\n",
    "\n",
    "Y = np.array([[2, 1], [1, 2]]) \n",
    "Y"
   ]
  },
  {
   "cell_type": "code",
   "execution_count": null,
   "id": "39841c11-a43e-44dd-a9e9-4650721f5a09",
   "metadata": {},
   "outputs": [],
   "source": [
    "# Add X and Y\n",
    "\n",
    "Z = X + Y\n",
    "Z"
   ]
  },
  {
   "cell_type": "code",
   "execution_count": null,
   "id": "44b72e71-22b4-410f-9529-d207a0e420e7",
   "metadata": {},
   "outputs": [],
   "source": [
    "# Multiply Y with 2\n",
    "\n",
    "Z = 2 * Y"
   ]
  },
  {
   "cell_type": "code",
   "execution_count": null,
   "id": "7a654ef7-5bdf-4667-8b85-3b06649a8cc8",
   "metadata": {},
   "outputs": [],
   "source": [
    "# Multiply X with Y# Calculate the sine of Z\n",
    "\n",
    "np.sin(Z)\n",
    "\n",
    "Z = X * Y\n",
    "Z# Calculate the sine of Z\n",
    "\n",
    "np.sin(Z)"
   ]
  },
  {
   "cell_type": "code",
   "execution_count": null,
   "id": "faa091e7-2884-4e1d-9e98-662ba85db6ac",
   "metadata": {},
   "outputs": [],
   "source": []
  }
 ],
 "metadata": {
  "kernelspec": {
   "display_name": "Python 3 (ipykernel)",
   "language": "python",
   "name": "python3"
  },
  "language_info": {
   "codemirror_mode": {
    "name": "ipython",
    "version": 3
   },
   "file_extension": ".py",
   "mimetype": "text/x-python",
   "name": "python",
   "nbconvert_exporter": "python",
   "pygments_lexer": "ipython3",
   "version": "3.10.11"
  }
 },
 "nbformat": 4,
 "nbformat_minor": 5
}
