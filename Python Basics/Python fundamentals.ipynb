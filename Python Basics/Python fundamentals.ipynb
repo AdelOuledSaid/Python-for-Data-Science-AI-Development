{
 "cells": [
  {
   "cell_type": "markdown",
   "id": "f0d7f58b",
   "metadata": {},
   "source": [
    "<h1 style=\"color: blue; font-weight: bold; font-size: 36px;\"> Python fundamentals </h1>\n",
    " "
   ]
  },
  {
   "cell_type": "markdown",
   "id": "cf6ab1d4",
   "metadata": {},
   "source": [
    "**Conditions and Branching**  "
   ]
  },
  {
   "cell_type": "markdown",
   "id": "370a461b",
   "metadata": {},
   "source": [
    " We'll explore the fundamental concepts of conditional statements and branching in Python. "
   ]
  },
  {
   "cell_type": "markdown",
   "id": "3dc5d157",
   "metadata": {},
   "source": [
    "\n",
    "<p><span style=\"color: red;\"> 1. Comparison Operators.</span></p>"
   ]
  },
  {
   "cell_type": "code",
   "execution_count": null,
   "id": "adfe75b8",
   "metadata": {},
   "outputs": [],
   "source": [
    "a = 5\n",
    "a == 6"
   ]
  },
  {
   "cell_type": "markdown",
   "id": "26e914d8",
   "metadata": {},
   "source": [
    "a = 5: This line of code assigns the value 5 to the variable a. In Python, the symbol = is used for value assignment. After this line, the variable a contains the value 5.\n",
    "\n",
    "a == 6: This line of code tests if the value of the variable a is equal to 6. In Python, the operator == is used to test equality between two values. If a is equal to 6, this expression will return True; otherwise, it will return False.\n",
    "\n",
    "In this case, the value of a is 5, so the expression a == 6 evaluates to False because 5 is not equal to 6.\""
   ]
  },
  {
   "cell_type": "markdown",
   "id": "f8d2a01f",
   "metadata": {},
   "source": [
    "Consider the following equality comparison operator: i > 5"
   ]
  },
  {
   "cell_type": "code",
   "execution_count": null,
   "id": "fe644db8",
   "metadata": {},
   "outputs": [],
   "source": [
    "i = 6 #This line of code assigns the value 6 to the variable i\n",
    "i > 5 #i > 5: This line of code tests if the value of the variable i is greater than 5"
   ]
  },
  {
   "cell_type": "markdown",
   "id": "1e098772",
   "metadata": {},
   "source": [
    "In this case, the value of i is 6, so the expression i > 5 evaluates to True, because 6 is indeed greater than 5."
   ]
  },
  {
   "cell_type": "code",
   "execution_count": null,
   "id": "a3a7f374",
   "metadata": {},
   "outputs": [],
   "source": [
    "i = 2\n",
    "i != 6"
   ]
  },
  {
   "cell_type": "markdown",
   "id": "260dc9f9",
   "metadata": {},
   "source": [
    "In this case, the value of i is 2, so the expression i != 6 evaluates to True because 2 is indeed not equal to 6."
   ]
  },
  {
   "cell_type": "markdown",
   "id": "6417f5c0",
   "metadata": {},
   "source": [
    "We can apply the same methods on strings."
   ]
  },
  {
   "cell_type": "code",
   "execution_count": null,
   "id": "a178bdcc",
   "metadata": {},
   "outputs": [],
   "source": [
    "\"ACDC\" == \"Michael Jackson\"  #This line of code compares two strings, \"ACDC\" and \"Michael Jackson\""
   ]
  },
  {
   "cell_type": "markdown",
   "id": "a7f52ac0",
   "metadata": {},
   "source": [
    "Since \"ACDC\" and \"Michael Jackson\" are different strings, the expression evaluates to False."
   ]
  },
  {
   "cell_type": "code",
   "execution_count": null,
   "id": "ab19b352",
   "metadata": {},
   "outputs": [],
   "source": [
    "'A'< 'B' #This line of code compares two characters, 'B' and 'A', to check if the first character is greater than the second character"
   ]
  },
  {
   "cell_type": "markdown",
   "id": "e79e6bef",
   "metadata": {},
   "source": [
    "In Unicode, the ASCII value of 'A' is 65, and the ASCII value of 'B' is 66. Since 66 is greater than 65, the expression 'B' > 'A' evaluates to True."
   ]
  },
  {
   "cell_type": "markdown",
   "id": "9d9b05d5",
   "metadata": {},
   "source": [
    "<p><span style=\"color: red;\"> 2. Branching.</span></p>\n"
   ]
  },
  {
   "cell_type": "markdown",
   "id": "98abecc2",
   "metadata": {},
   "source": [
    "Branching allows us to run different statements for different inputs."
   ]
  },
  {
   "cell_type": "code",
   "execution_count": null,
   "id": "333e2305",
   "metadata": {},
   "outputs": [],
   "source": [
    "# Assign the value 19 to the variable 'age'\n",
    "age = 19\n",
    "\n",
    "# Check if the value of 'age' is greater than 18\n",
    "if age > 18:\n",
    "    # If the condition is true, print \"You can enter\"\n",
    "    print(\"You can enter\")\n",
    "\n",
    "# This line will always execute, regardless of the if condition\n",
    "print(\"Move on\")"
   ]
  },
  {
   "cell_type": "code",
   "execution_count": null,
   "id": "d58367fc",
   "metadata": {},
   "outputs": [],
   "source": [
    "# Assign the value 18 to the variable 'age'\n",
    "age = 18\n",
    "\n",
    "\n",
    "\n",
    "# Check if the value of 'age' is greater than 18\n",
    "if age > 18:\n",
    "    # If the condition is true, print \"You can enter\"\n",
    "    print(\"You can enter\")\n",
    "else:\n",
    "    # If the condition is false, print \"Go see Meat Loaf\"\n",
    "    print(\"Go see Meat Loaf\")\n",
    "\n",
    "# This line will always execute, regardless of the if-else condition\n",
    "print(\"Move on\")"
   ]
  },
  {
   "cell_type": "markdown",
   "id": "3e577484",
   "metadata": {},
   "source": [
    "The value of age is set to 18. Then, a conditional structure is used to check the value of age:\n",
    "\n",
    "If age is greater than 18, the message \"you can enter\" is printed.\n",
    "If age is equal to 18, the message \"go see Pink Floyd\" is printed.\n",
    "Otherwise, if age is less than 18, the message \"go see Meat Loaf\" is printed.\n",
    "In this case, age is equal to 18, so the message \"go see Pink Floyd\" is printed"
   ]
  },
  {
   "cell_type": "code",
   "execution_count": null,
   "id": "f728156a",
   "metadata": {},
   "outputs": [],
   "source": [
    "album_year = 1983\n",
    "album_year = 1970\n",
    "\n",
    "if album_year > 1980:\n",
    "    print(\"Album year is greater than 1980\")\n",
    "    \n",
    "print('do something..')"
   ]
  },
  {
   "cell_type": "markdown",
   "id": "5d04000b",
   "metadata": {},
   "source": [
    "This code segment sets the variable album_year to the value 1983, but then it reassigns it to 1970, effectively discarding the first assignment. Then, it checks if the value of album_year is greater than 1980. If it is, it prints \"Album year is greater than 1980\". Regardless of the outcome of the comparison, it prints \"do something..\"."
   ]
  },
  {
   "cell_type": "code",
   "execution_count": null,
   "id": "500280bb",
   "metadata": {},
   "outputs": [],
   "source": [
    "album_year = 1980\n",
    "\n",
    "if(album_year > 1979) and (album_year < 1990):\n",
    "    print (\"Album year was in between 1980 and 1989\")\n",
    "    \n",
    "print(\"\")\n",
    "print(\"Do Stuff..\")"
   ]
  },
  {
   "cell_type": "markdown",
   "id": "ca0fa0ff",
   "metadata": {},
   "source": [
    "This code segment checks if the value of album_year is greater than 1979 and less than 1990. If both conditions are true, it prints \"Album year was in between 1980 and 1989\". After that, it prints an empty line (print(\"\")) for formatting and then prints \"Do Stuff..\""
   ]
  }
 ],
 "metadata": {
  "kernelspec": {
   "display_name": "Python 3 (ipykernel)",
   "language": "python",
   "name": "python3"
  },
  "language_info": {
   "codemirror_mode": {
    "name": "ipython",
    "version": 3
   },
   "file_extension": ".py",
   "mimetype": "text/x-python",
   "name": "python",
   "nbconvert_exporter": "python",
   "pygments_lexer": "ipython3",
   "version": "3.9.13"
  }
 },
 "nbformat": 4,
 "nbformat_minor": 5
}
